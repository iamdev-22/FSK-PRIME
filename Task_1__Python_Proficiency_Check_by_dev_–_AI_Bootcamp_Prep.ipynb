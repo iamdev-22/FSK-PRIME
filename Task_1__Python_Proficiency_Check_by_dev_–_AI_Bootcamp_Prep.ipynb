{
  "nbformat": 4,
  "nbformat_minor": 0,
  "metadata": {
    "colab": {
      "provenance": []
    },
    "kernelspec": {
      "name": "python3",
      "display_name": "Python 3"
    },
    "language_info": {
      "name": "python"
    }
  },
  "cells": [
    {
      "cell_type": "markdown",
      "source": [
        "# Task 1: Python Proficiency Check – AI Bootcamp Prep"
      ],
      "metadata": {
        "id": "L982FdumDCVn"
      }
    },
    {
      "cell_type": "markdown",
      "source": [
        "## Section 1: Basics & Control Flow"
      ],
      "metadata": {
        "id": "gk9AwRFXDO6n"
      }
    },
    {
      "cell_type": "code",
      "source": [
        "def fizzbuzz_ai_bootcamp():\n",
        "  for i in range(1,51,1):\n",
        "    if i%3==0:\n",
        "      print(f\"{i}=AI\")\n",
        "    elif i%5==0:\n",
        "      print(f\"{i}=Bootcamp\")\n",
        "    else:\n",
        "      print(i)\n",
        "\n",
        "fizzbuzz_ai_bootcamp()"
      ],
      "metadata": {
        "id": "G6YtbgenDSWH",
        "colab": {
          "base_uri": "https://localhost:8080/"
        },
        "outputId": "56fb1fbb-e78a-4694-9fda-3e090e9873b4"
      },
      "execution_count": null,
      "outputs": [
        {
          "output_type": "stream",
          "name": "stdout",
          "text": [
            "1\n",
            "2\n",
            "3=AI\n",
            "4\n",
            "5=Bootcamp\n",
            "6=AI\n",
            "7\n",
            "8\n",
            "9=AI\n",
            "10=Bootcamp\n",
            "11\n",
            "12=AI\n",
            "13\n",
            "14\n",
            "15=AI\n",
            "16\n",
            "17\n",
            "18=AI\n",
            "19\n",
            "20=Bootcamp\n",
            "21=AI\n",
            "22\n",
            "23\n",
            "24=AI\n",
            "25=Bootcamp\n",
            "26\n",
            "27=AI\n",
            "28\n",
            "29\n",
            "30=AI\n",
            "31\n",
            "32\n",
            "33=AI\n",
            "34\n",
            "35=Bootcamp\n",
            "36=AI\n",
            "37\n",
            "38\n",
            "39=AI\n",
            "40=Bootcamp\n",
            "41\n",
            "42=AI\n",
            "43\n",
            "44\n",
            "45=AI\n",
            "46\n",
            "47\n",
            "48=AI\n",
            "49\n",
            "50=Bootcamp\n"
          ]
        }
      ]
    },
    {
      "cell_type": "markdown",
      "source": [
        "### **Task 2**: List Comprehensions and Functions\n",
        "\n",
        "*Instruction*: Given a list of numbers, square only the even numbers using a list comprehension and define a function that returns the result."
      ],
      "metadata": {
        "id": "8YMADBQmDhHU"
      }
    },
    {
      "cell_type": "code",
      "execution_count": null,
      "metadata": {
        "colab": {
          "base_uri": "https://localhost:8080/"
        },
        "id": "sPfpD1yF4LTO",
        "outputId": "b133299a-269b-4cbb-c4f8-10fc2e605f27"
      },
      "outputs": [
        {
          "output_type": "stream",
          "name": "stdout",
          "text": [
            "[4, 16, 36]\n"
          ]
        }
      ],
      "source": [
        "def square_evens(numbers):\n",
        "    return [x**2 for x in numbers if x % 2 == 0]\n",
        "\n",
        "print(square_evens([1, 2, 3, 4, 5, 6]))\n"
      ]
    },
    {
      "cell_type": "markdown",
      "source": [
        "## Section 2: Data Structures & File I/O"
      ],
      "metadata": {
        "id": "03CKwCBtDzRL"
      }
    },
    {
      "cell_type": "markdown",
      "source": [
        "### **Task 3**: Word Frequency from a File\n",
        "\n",
        "*Instruction*: Read the provided text file (Sample_For_Task1.txt) and return the 5 most common words (ignoring punctuation and case)."
      ],
      "metadata": {
        "id": "oh1W_9m5DuzF"
      }
    },
    {
      "cell_type": "code",
      "source": [
        "from collections import Counter\n",
        "import string\n",
        "def top_5_words(filepath):\n",
        "  with open(filepath, 'r') as file:\n",
        "        text = file.read()\n",
        "        text= text.lower()\n",
        "  text = text.translate(str.maketrans('', '', string.punctuation))\n",
        "  words = text.split()\n",
        "  word_counts = Counter(words)\n",
        "  most_common = word_counts.most_common(5)\n",
        "  for word, count in most_common:\n",
        "    print(f\"{word}: {count}\")\n",
        "\n",
        "\n",
        "top_5_words('/content/sample_data/README.md')"
      ],
      "metadata": {
        "id": "SQTsWR6GDn6e",
        "colab": {
          "base_uri": "https://localhost:8080/"
        },
        "outputId": "9b69ae25-3aa2-4c94-88d8-e4c61f3d7647"
      },
      "execution_count": null,
      "outputs": [
        {
          "output_type": "stream",
          "name": "stdout",
          "text": [
            "is: 4\n",
            "a: 3\n",
            "the: 3\n",
            "sample: 2\n",
            "at: 2\n"
          ]
        }
      ]
    },
    {
      "cell_type": "markdown",
      "source": [
        "## Section 3: NumPy & pandas"
      ],
      "metadata": {
        "id": "mVV1BgZvEE3a"
      }
    },
    {
      "cell_type": "markdown",
      "source": [
        "### **Task 4**: NumPy Matrix Magic\n",
        "\n",
        "*Instruction*: Create a 5x5 matrix with random integers from 1 to 10. Replace all elements greater than 5 with 0."
      ],
      "metadata": {
        "id": "opUK7Z7LEIr4"
      }
    },
    {
      "cell_type": "code",
      "source": [
        "import numpy as np\n",
        "\n",
        "def matrix_transform():\n",
        "    # Step 1: Create a 5x5 matrix with random integers from 1 to 10\n",
        "    matrix = np.random.randint(1, 11, size=(5, 5))\n",
        "    print(\"Original matrix:\\n\", matrix)\n",
        "\n",
        "    # Step 2: Replace all elements greater than 5 with 0\n",
        "    matrix[matrix > 5] = 0\n",
        "    print(\"\\nTransformed matrix:\\n\", matrix)\n",
        "\n",
        "# Call the function\n",
        "matrix_transform()\n"
      ],
      "metadata": {
        "id": "UW3FMdjQEEl3",
        "colab": {
          "base_uri": "https://localhost:8080/"
        },
        "outputId": "a79938be-63a9-46f8-adf4-096079fb74f2"
      },
      "execution_count": null,
      "outputs": [
        {
          "output_type": "stream",
          "name": "stdout",
          "text": [
            "Original matrix:\n",
            " [[ 1  8  8  9  4]\n",
            " [ 8  3  7  4 10]\n",
            " [ 5  3  3  4  3]\n",
            " [ 9  6  7  6  1]\n",
            " [ 6  5  6  2  4]]\n",
            "\n",
            "Transformed matrix:\n",
            " [[1 0 0 0 4]\n",
            " [0 3 0 4 0]\n",
            " [5 3 3 4 3]\n",
            " [0 0 0 0 1]\n",
            " [0 5 0 2 4]]\n"
          ]
        }
      ]
    },
    {
      "cell_type": "markdown",
      "source": [
        "### **Task 5**: pandas DataFrame Manipulation\n",
        "\n",
        "*Instruction*: Given the following dictionary, convert it into a DataFrame, calculate the average score per student, and add it as a new column."
      ],
      "metadata": {
        "id": "YuFv3sE6ET9d"
      }
    },
    {
      "cell_type": "code",
      "source": [
        "import pandas as pd\n",
        "\n",
        "# Provided data dictionary\n",
        "data = {\n",
        "    'Name': ['Alice', 'Bob', 'Charlie'],\n",
        "    'Math': [85, 78, 92],\n",
        "    'Science': [90, 88, 84],\n",
        "    'English': [87, 85, 80]\n",
        "}\n",
        "\n",
        "# Convert dictionary to DataFrame\n",
        "df = pd.DataFrame(data)\n",
        "\n",
        "# Calculate average score across subjects and add it as a new column\n",
        "df['Average'] = df[['Math', 'Science', 'English']].mean(axis=1)\n",
        "\n",
        "# Display the final DataFrame\n",
        "print(df)\n"
      ],
      "metadata": {
        "id": "horbXH8iETuH",
        "colab": {
          "base_uri": "https://localhost:8080/"
        },
        "outputId": "a3915359-5a11-4a0d-81a8-889ae244ebb6",
        "collapsed": true
      },
      "execution_count": null,
      "outputs": [
        {
          "output_type": "stream",
          "name": "stdout",
          "text": [
            "      Name  Math  Science  English    Average\n",
            "0    Alice    85       90       87  87.333333\n",
            "1      Bob    78       88       85  83.666667\n",
            "2  Charlie    92       84       80  85.333333\n"
          ]
        }
      ]
    },
    {
      "cell_type": "markdown",
      "source": [
        "## Section 4: Visualization & Logic"
      ],
      "metadata": {
        "id": "GNO0DPi3EpgF"
      }
    },
    {
      "cell_type": "markdown",
      "source": [
        "### **Task 6**: Simple Data Visualization\n",
        "\n",
        "*Instruction*: Use matplotlib to create a bar chart showing the average score per subject from the DataFrame in the previous task."
      ],
      "metadata": {
        "id": "W74DNGaJEtdj"
      }
    },
    {
      "cell_type": "code",
      "source": [
        "import matplotlib.pyplot as plt\n",
        "\n",
        "# Data from the previous task\n",
        "data = {\n",
        "    'Name': ['Alice', 'Bob', 'Charlie'],\n",
        "    'Math': [85, 78, 92],\n",
        "    'Science': [90, 88, 84],\n",
        "    'English': [87, 85, 80]\n",
        "}\n",
        "\n",
        "# Create DataFrame\n",
        "df = pd.DataFrame(data)\n",
        "\n",
        "# Calculate average score per subject (mean across rows)\n",
        "subject_averages = df[['Math', 'Science', 'English']].mean()\n"
      ],
      "metadata": {
        "id": "aM8iWEAXEOmE"
      },
      "execution_count": null,
      "outputs": []
    },
    {
      "cell_type": "markdown",
      "source": [
        "## Section 5: Mini-Project Challenge"
      ],
      "metadata": {
        "id": "yFxPFagsE9mS"
      }
    },
    {
      "cell_type": "markdown",
      "source": [
        "### **Task 7**: Build a Mini Calculator with Exception Handling\n",
        "\n",
        "*Instruction*: Write a function that takes two numbers and an operator as input (+, -, *, /). Return the result, and handle divide-by-zero and invalid operator cases with appropriate error messages."
      ],
      "metadata": {
        "id": "IZwIOzHXFD1a"
      }
    },
    {
      "cell_type": "code",
      "source": [
        "def calculate(num1, num2, operator):\n",
        "    try:\n",
        "        if operator == '+':\n",
        "            return num1 + num2\n",
        "        elif operator == '-':\n",
        "            return num1 - num2\n",
        "        elif operator == '*':\n",
        "            return num1 * num2\n",
        "        elif operator == '/':\n",
        "            if num2 == 0:\n",
        "                return \"Error: Cannot divide by zero.\"\n",
        "            return num1 / num2\n",
        "        else:\n",
        "            return \"Error: Invalid operator. Use one of '+', '-', '*', '/'.\"\n",
        "    except Exception as e:\n",
        "        return f\"An error occurred: {e}\"\n",
        "\n",
        "# 🔍 Example usage:\n",
        "print(calculate(10, 5, '+'))  # Output: 15\n",
        "print(calculate(10, 0, '/'))  # Output: Error: Cannot divide by zero.\n",
        "print(calculate(10, 3, '^'))  # Output: Error: Invalid operator\n",
        "\n"
      ],
      "metadata": {
        "id": "VpUFTR1JFDWk",
        "colab": {
          "base_uri": "https://localhost:8080/"
        },
        "outputId": "87c7fe47-cce0-49ad-cc67-6339f8a10d07"
      },
      "execution_count": null,
      "outputs": [
        {
          "output_type": "stream",
          "name": "stdout",
          "text": [
            "15\n",
            "Error: Cannot divide by zero.\n",
            "Error: Invalid operator. Use one of '+', '-', '*', '/'.\n"
          ]
        }
      ]
    }
  ]
}