{
  "cells": [
    {
      "cell_type": "markdown",
      "metadata": {
        "id": "L982FdumDCVn"
      },
      "source": [
        "# Task 2: Data Preprocessing for Machine Learning – AI Bootcamp"
      ]
    },
    {
      "cell_type": "markdown",
      "metadata": {
        "id": "6EEWt7WNF5kP"
      },
      "source": [
        "Download Titanic Dataset here: https://web.stanford.edu/class/archive/cs/cs109/cs109.1166/stuff/titanic.csv\n",
        "\n",
        "#### About this file\n",
        "\n",
        "The sinking of the Titanic is one of the most infamous shipwrecks in history.\n",
        "\n",
        "On April 15, 1912, during her maiden voyage, the widely considered “unsinkable” RMS Titanic sank after colliding with an iceberg. Unfortunately, there weren’t enough lifeboats for everyone on board, resulting in the death of 1502 out of 2224 passengers and crew.\n",
        "\n",
        "While there was some element of luck involved in surviving, it seems some groups of people were more likely to survive than others.\n",
        "\n",
        "In this challenge, we ask you to build a predictive model that answers the question: “what sorts of people were more likely to survive?” using passenger data (ie name, age, gender, socio-economic class, etc)."
      ]
    },
    {
      "cell_type": "markdown",
      "metadata": {
        "id": "gk9AwRFXDO6n"
      },
      "source": [
        "## Section 1: Data Loading & Exploration"
      ]
    },
    {
      "cell_type": "markdown",
      "metadata": {
        "id": "tG2LLFb4DSrf"
      },
      "source": [
        "### **Task 1**: Load and Inspect a Dataset\n",
        "\n",
        "*Instruction*: Load the `titanic.csv` dataset and display the first 5 rows. Show basic info and describe statistics of the dataset."
      ]
    },
    {
      "cell_type": "code",
      "execution_count": 3,
      "metadata": {
        "id": "G6YtbgenDSWH",
        "colab": {
          "base_uri": "https://localhost:8080/"
        },
        "outputId": "18566fe4-12f8-4f22-a9da-afb80d25c8ae"
      },
      "outputs": [
        {
          "output_type": "stream",
          "name": "stdout",
          "text": [
            "   Survived  Pclass                                               Name  \\\n",
            "0         0       3                             Mr. Owen Harris Braund   \n",
            "1         1       1  Mrs. John Bradley (Florence Briggs Thayer) Cum...   \n",
            "2         1       3                              Miss. Laina Heikkinen   \n",
            "3         1       1        Mrs. Jacques Heath (Lily May Peel) Futrelle   \n",
            "4         0       3                            Mr. William Henry Allen   \n",
            "\n",
            "      Sex   Age  Siblings/Spouses Aboard  Parents/Children Aboard     Fare  \n",
            "0    male  22.0                        1                        0   7.2500  \n",
            "1  female  38.0                        1                        0  71.2833  \n",
            "2  female  26.0                        0                        0   7.9250  \n",
            "3  female  35.0                        1                        0  53.1000  \n",
            "4    male  35.0                        0                        0   8.0500  \n",
            "<class 'pandas.core.frame.DataFrame'>\n",
            "RangeIndex: 887 entries, 0 to 886\n",
            "Data columns (total 8 columns):\n",
            " #   Column                   Non-Null Count  Dtype  \n",
            "---  ------                   --------------  -----  \n",
            " 0   Survived                 887 non-null    int64  \n",
            " 1   Pclass                   887 non-null    int64  \n",
            " 2   Name                     887 non-null    object \n",
            " 3   Sex                      887 non-null    object \n",
            " 4   Age                      887 non-null    float64\n",
            " 5   Siblings/Spouses Aboard  887 non-null    int64  \n",
            " 6   Parents/Children Aboard  887 non-null    int64  \n",
            " 7   Fare                     887 non-null    float64\n",
            "dtypes: float64(2), int64(4), object(2)\n",
            "memory usage: 55.6+ KB\n",
            "None\n",
            "         Survived      Pclass         Age  Siblings/Spouses Aboard  \\\n",
            "count  887.000000  887.000000  887.000000               887.000000   \n",
            "mean     0.385569    2.305524   29.471443                 0.525366   \n",
            "std      0.487004    0.836662   14.121908                 1.104669   \n",
            "min      0.000000    1.000000    0.420000                 0.000000   \n",
            "25%      0.000000    2.000000   20.250000                 0.000000   \n",
            "50%      0.000000    3.000000   28.000000                 0.000000   \n",
            "75%      1.000000    3.000000   38.000000                 1.000000   \n",
            "max      1.000000    3.000000   80.000000                 8.000000   \n",
            "\n",
            "       Parents/Children Aboard       Fare  \n",
            "count               887.000000  887.00000  \n",
            "mean                  0.383315   32.30542  \n",
            "std                   0.807466   49.78204  \n",
            "min                   0.000000    0.00000  \n",
            "25%                   0.000000    7.92500  \n",
            "50%                   0.000000   14.45420  \n",
            "75%                   0.000000   31.13750  \n",
            "max                   6.000000  512.32920  \n"
          ]
        }
      ],
      "source": [
        "import pandas as pd\n",
        "\n",
        "df = pd.read_csv('titanic.csv')\n",
        "print(df.head())\n",
        "print(df.info())\n",
        "print(df.describe())"
      ]
    },
    {
      "cell_type": "markdown",
      "metadata": {
        "id": "03CKwCBtDzRL"
      },
      "source": [
        "## Section 2: Handling Missing Values"
      ]
    },
    {
      "cell_type": "markdown",
      "metadata": {
        "id": "oh1W_9m5DuzF"
      },
      "source": [
        "### **Task 2**: Identify and Handle Missing Data\n",
        "\n",
        "*Instruction*:\n",
        "\n",
        "\n",
        "\n",
        "*   Display the number of missing values per column.\n",
        "*   Fill missing `Age` values with the median.\n",
        "*   Drop the second row in the dataset.\n",
        "\n"
      ]
    },
    {
      "cell_type": "code",
      "execution_count": 4,
      "metadata": {
        "id": "SQTsWR6GDn6e",
        "colab": {
          "base_uri": "https://localhost:8080/"
        },
        "outputId": "7ef8ccfb-3b64-40e9-be5f-5d5fb0a1c15f"
      },
      "outputs": [
        {
          "output_type": "stream",
          "name": "stdout",
          "text": [
            "Survived                   0\n",
            "Pclass                     0\n",
            "Name                       0\n",
            "Sex                        0\n",
            "Age                        0\n",
            "Siblings/Spouses Aboard    0\n",
            "Parents/Children Aboard    0\n",
            "Fare                       0\n",
            "dtype: int64\n",
            "     Survived  Pclass                                         Name     Sex  \\\n",
            "0           0       3                       Mr. Owen Harris Braund    male   \n",
            "2           1       3                        Miss. Laina Heikkinen  female   \n",
            "3           1       1  Mrs. Jacques Heath (Lily May Peel) Futrelle  female   \n",
            "4           0       3                      Mr. William Henry Allen    male   \n",
            "5           0       3                              Mr. James Moran    male   \n",
            "..        ...     ...                                          ...     ...   \n",
            "882         0       2                         Rev. Juozas Montvila    male   \n",
            "883         1       1                  Miss. Margaret Edith Graham  female   \n",
            "884         0       3               Miss. Catherine Helen Johnston  female   \n",
            "885         1       1                         Mr. Karl Howell Behr    male   \n",
            "886         0       3                           Mr. Patrick Dooley    male   \n",
            "\n",
            "      Age  Siblings/Spouses Aboard  Parents/Children Aboard     Fare  \n",
            "0    22.0                        1                        0   7.2500  \n",
            "2    26.0                        0                        0   7.9250  \n",
            "3    35.0                        1                        0  53.1000  \n",
            "4    35.0                        0                        0   8.0500  \n",
            "5    27.0                        0                        0   8.4583  \n",
            "..    ...                      ...                      ...      ...  \n",
            "882  27.0                        0                        0  13.0000  \n",
            "883  19.0                        0                        0  30.0000  \n",
            "884   7.0                        1                        2  23.4500  \n",
            "885  26.0                        0                        0  30.0000  \n",
            "886  32.0                        0                        0   7.7500  \n",
            "\n",
            "[886 rows x 8 columns]\n"
          ]
        },
        {
          "output_type": "stream",
          "name": "stderr",
          "text": [
            "<ipython-input-4-b9d6e995b796>:4: FutureWarning: A value is trying to be set on a copy of a DataFrame or Series through chained assignment using an inplace method.\n",
            "The behavior will change in pandas 3.0. This inplace method will never work because the intermediate object on which we are setting values always behaves as a copy.\n",
            "\n",
            "For example, when doing 'df[col].method(value, inplace=True)', try using 'df.method({col: value}, inplace=True)' or df[col] = df[col].method(value) instead, to perform the operation inplace on the original object.\n",
            "\n",
            "\n",
            "  df['Age'].fillna(median_age, inplace=True)\n"
          ]
        }
      ],
      "source": [
        "data=df.isnull().sum()\n",
        "print(data)\n",
        "median_age=df['Age'].median()\n",
        "df['Age'].fillna(median_age, inplace=True)\n",
        "df = df.drop(df.index[1])\n",
        "print(df)\n",
        "\n"
      ]
    },
    {
      "cell_type": "markdown",
      "metadata": {
        "id": "mVV1BgZvEE3a"
      },
      "source": [
        "## Section 3: Encoding Categorical Features"
      ]
    },
    {
      "cell_type": "markdown",
      "metadata": {
        "id": "opUK7Z7LEIr4"
      },
      "source": [
        "### **Task 3**: Convert Categorical to Numeric\n",
        "\n",
        "*Instruction*: Convert `Sex` and `Pclass` columns to numeric using:\n",
        "\n",
        "\n",
        "*   Label Encoding for `Sex`\n",
        "*   One-Hot Encoding for `Pclass`\n",
        "\n"
      ]
    },
    {
      "cell_type": "code",
      "execution_count": 5,
      "metadata": {
        "id": "UW3FMdjQEEl3",
        "colab": {
          "base_uri": "https://localhost:8080/"
        },
        "outputId": "d84d275d-8625-4a8a-dd6a-d3bb1bdd10c5"
      },
      "outputs": [
        {
          "output_type": "stream",
          "name": "stdout",
          "text": [
            "     Survived                                         Name  Sex   Age  \\\n",
            "0           0                       Mr. Owen Harris Braund    1  22.0   \n",
            "2           1                        Miss. Laina Heikkinen    0  26.0   \n",
            "3           1  Mrs. Jacques Heath (Lily May Peel) Futrelle    0  35.0   \n",
            "4           0                      Mr. William Henry Allen    1  35.0   \n",
            "5           0                              Mr. James Moran    1  27.0   \n",
            "..        ...                                          ...  ...   ...   \n",
            "882         0                         Rev. Juozas Montvila    1  27.0   \n",
            "883         1                  Miss. Margaret Edith Graham    0  19.0   \n",
            "884         0               Miss. Catherine Helen Johnston    0   7.0   \n",
            "885         1                         Mr. Karl Howell Behr    1  26.0   \n",
            "886         0                           Mr. Patrick Dooley    1  32.0   \n",
            "\n",
            "     Siblings/Spouses Aboard  Parents/Children Aboard     Fare  Pclass_1  \\\n",
            "0                          1                        0   7.2500     False   \n",
            "2                          0                        0   7.9250     False   \n",
            "3                          1                        0  53.1000      True   \n",
            "4                          0                        0   8.0500     False   \n",
            "5                          0                        0   8.4583     False   \n",
            "..                       ...                      ...      ...       ...   \n",
            "882                        0                        0  13.0000     False   \n",
            "883                        0                        0  30.0000      True   \n",
            "884                        1                        2  23.4500     False   \n",
            "885                        0                        0  30.0000      True   \n",
            "886                        0                        0   7.7500     False   \n",
            "\n",
            "     Pclass_2  Pclass_3  \n",
            "0       False      True  \n",
            "2       False      True  \n",
            "3       False     False  \n",
            "4       False      True  \n",
            "5       False      True  \n",
            "..        ...       ...  \n",
            "882      True     False  \n",
            "883     False     False  \n",
            "884     False      True  \n",
            "885     False     False  \n",
            "886     False      True  \n",
            "\n",
            "[886 rows x 10 columns]\n"
          ]
        }
      ],
      "source": [
        "from sklearn.preprocessing import LabelEncoder\n",
        "\n",
        "le=LabelEncoder()\n",
        "df['Sex']=le.fit_transform(df['Sex'])\n",
        "df = pd.get_dummies(df, columns=['Pclass'])\n",
        "print(df)\n"
      ]
    },
    {
      "cell_type": "markdown",
      "metadata": {
        "id": "GNO0DPi3EpgF"
      },
      "source": [
        "## Section 4: Feature Scaling"
      ]
    },
    {
      "cell_type": "markdown",
      "metadata": {
        "id": "W74DNGaJEtdj"
      },
      "source": [
        "### **Task 4**: Scale Numerical Features\n",
        "\n",
        "*Instruction*: Use StandardScaler to scale the Age and Fare columns.*italicized text*"
      ]
    },
    {
      "cell_type": "code",
      "execution_count": 6,
      "metadata": {
        "id": "aM8iWEAXEOmE",
        "colab": {
          "base_uri": "https://localhost:8080/"
        },
        "outputId": "3274592c-55f1-49aa-c56c-83193ac17703"
      },
      "outputs": [
        {
          "output_type": "stream",
          "name": "stdout",
          "text": [
            "     Survived                                         Name  Sex       Age  \\\n",
            "0           0                       Mr. Owen Harris Braund    1 -0.528495   \n",
            "2           1                        Miss. Laina Heikkinen    0 -0.245189   \n",
            "3           1  Mrs. Jacques Heath (Lily May Peel) Futrelle    0  0.392250   \n",
            "4           0                      Mr. William Henry Allen    1  0.392250   \n",
            "5           0                              Mr. James Moran    1 -0.174362   \n",
            "..        ...                                          ...  ...       ...   \n",
            "882         0                         Rev. Juozas Montvila    1 -0.174362   \n",
            "883         1                  Miss. Margaret Edith Graham    0 -0.740974   \n",
            "884         0               Miss. Catherine Helen Johnston    0 -1.590893   \n",
            "885         1                         Mr. Karl Howell Behr    1 -0.245189   \n",
            "886         0                           Mr. Patrick Dooley    1  0.179771   \n",
            "\n",
            "     Siblings/Spouses Aboard  Parents/Children Aboard      Fare  Pclass_1  \\\n",
            "0                          1                        0 -0.502593     False   \n",
            "2                          0                        0 -0.489029     False   \n",
            "3                          1                        0  0.418741      True   \n",
            "4                          0                        0 -0.486517     False   \n",
            "5                          0                        0 -0.478313     False   \n",
            "..                       ...                      ...       ...       ...   \n",
            "882                        0                        0 -0.387049     False   \n",
            "883                        0                        0 -0.045442      True   \n",
            "884                        1                        2 -0.177061     False   \n",
            "885                        0                        0 -0.045442      True   \n",
            "886                        0                        0 -0.492546     False   \n",
            "\n",
            "     Pclass_2  Pclass_3  \n",
            "0       False      True  \n",
            "2       False      True  \n",
            "3       False     False  \n",
            "4       False      True  \n",
            "5       False      True  \n",
            "..        ...       ...  \n",
            "882      True     False  \n",
            "883     False     False  \n",
            "884     False      True  \n",
            "885     False     False  \n",
            "886     False      True  \n",
            "\n",
            "[886 rows x 10 columns]\n"
          ]
        }
      ],
      "source": [
        "from sklearn.preprocessing import StandardScaler\n",
        "\n",
        "scaler = StandardScaler()\n",
        "df[['Age', 'Fare']] = scaler.fit_transform(df[['Age', 'Fare']])\n",
        "print(df)"
      ]
    },
    {
      "cell_type": "markdown",
      "metadata": {
        "id": "yFxPFagsE9mS"
      },
      "source": [
        "## Section 5: Feature Engineering"
      ]
    },
    {
      "cell_type": "markdown",
      "metadata": {
        "id": "IZwIOzHXFD1a"
      },
      "source": [
        "### **Task 5**: Build Preprocessing Pipeline\n",
        "\n",
        "*Instruction*: Using `ColumnTransformer` and `Pipeline` from `sklearn`, build a pipeline that:\n",
        "\n",
        "\n",
        "\n",
        "*   Imputes missing values\n",
        "*   Scales numeric data\n",
        "*   Encodes categorical data\n",
        "\n"
      ]
    },
    {
      "cell_type": "code",
      "execution_count": 8,
      "metadata": {
        "id": "VpUFTR1JFDWk",
        "colab": {
          "base_uri": "https://localhost:8080/"
        },
        "outputId": "05633d43-a0e2-4896-d5f1-85063ae1c0c3"
      },
      "outputs": [
        {
          "output_type": "stream",
          "name": "stdout",
          "text": [
            "[[-0.52936601 -0.50358635  0.         ...  0.          0.\n",
            "   1.        ]\n",
            " [ 0.60426454  0.78341245  1.         ...  1.          0.\n",
            "   0.        ]\n",
            " [-0.24595837 -0.49001959  1.         ...  0.          0.\n",
            "   1.        ]\n",
            " ...\n",
            " [-1.59214465 -0.17798419  1.         ...  0.          0.\n",
            "   1.        ]\n",
            " [-0.24595837 -0.04633641  0.         ...  1.          0.\n",
            "   0.        ]\n",
            " [ 0.17915309 -0.4935369   0.         ...  0.          0.\n",
            "   1.        ]]\n"
          ]
        }
      ],
      "source": [
        "import pandas as pd\n",
        "from sklearn.compose import ColumnTransformer\n",
        "from sklearn.pipeline import Pipeline\n",
        "from sklearn.impute import SimpleImputer\n",
        "from sklearn.preprocessing import OneHotEncoder, StandardScaler\n",
        "\n",
        "numeric_features = ['Age', 'Fare']\n",
        "categorical_features = ['Sex', 'Pclass']\n",
        "numeric_transformer = Pipeline(steps=[\n",
        "    ('imputer', SimpleImputer(strategy='median')),\n",
        "    ('scaler', StandardScaler())\n",
        "])\n",
        "categorical_transformer = Pipeline(steps=[\n",
        "    ('imputer', SimpleImputer(strategy='most_frequent')),\n",
        "    ('onehot', OneHotEncoder(handle_unknown='ignore'))\n",
        "])\n",
        "preprocessor = ColumnTransformer(\n",
        "    transformers=[\n",
        "        ('num', numeric_transformer, numeric_features),\n",
        "        ('cat', categorical_transformer, categorical_features)\n",
        "    ])\n",
        "df = pd.read_csv('titanic.csv')\n",
        "df = preprocessor.fit_transform(df)\n",
        "print(df)"
      ]
    },
    {
      "cell_type": "markdown",
      "metadata": {
        "id": "w-OY1jI5IaIB"
      },
      "source": [
        "## Section 6: Feature Engineering"
      ]
    },
    {
      "cell_type": "markdown",
      "metadata": {
        "id": "xeBCcr3RIi-8"
      },
      "source": [
        "### **Task 6**: Create a New Feature\n",
        "\n",
        "*Instruction*: Create a new feature `FamilySize` = `Siblings/Spouses Aboard` + `Parents/Children Aboard` + 1."
      ]
    },
    {
      "cell_type": "code",
      "execution_count": 9,
      "metadata": {
        "id": "gSza6VScIakN",
        "colab": {
          "base_uri": "https://localhost:8080/"
        },
        "outputId": "2dc5d869-7d86-461f-e7fd-32fdace9fa60"
      },
      "outputs": [
        {
          "output_type": "stream",
          "name": "stdout",
          "text": [
            "     Survived  Pclass                                               Name  \\\n",
            "0           0       3                             Mr. Owen Harris Braund   \n",
            "1           1       1  Mrs. John Bradley (Florence Briggs Thayer) Cum...   \n",
            "2           1       3                              Miss. Laina Heikkinen   \n",
            "3           1       1        Mrs. Jacques Heath (Lily May Peel) Futrelle   \n",
            "4           0       3                            Mr. William Henry Allen   \n",
            "..        ...     ...                                                ...   \n",
            "882         0       2                               Rev. Juozas Montvila   \n",
            "883         1       1                        Miss. Margaret Edith Graham   \n",
            "884         0       3                     Miss. Catherine Helen Johnston   \n",
            "885         1       1                               Mr. Karl Howell Behr   \n",
            "886         0       3                                 Mr. Patrick Dooley   \n",
            "\n",
            "        Sex   Age  Siblings/Spouses Aboard  Parents/Children Aboard     Fare  \\\n",
            "0      male  22.0                        1                        0   7.2500   \n",
            "1    female  38.0                        1                        0  71.2833   \n",
            "2    female  26.0                        0                        0   7.9250   \n",
            "3    female  35.0                        1                        0  53.1000   \n",
            "4      male  35.0                        0                        0   8.0500   \n",
            "..      ...   ...                      ...                      ...      ...   \n",
            "882    male  27.0                        0                        0  13.0000   \n",
            "883  female  19.0                        0                        0  30.0000   \n",
            "884  female   7.0                        1                        2  23.4500   \n",
            "885    male  26.0                        0                        0  30.0000   \n",
            "886    male  32.0                        0                        0   7.7500   \n",
            "\n",
            "     FamilySize  \n",
            "0             2  \n",
            "1             2  \n",
            "2             1  \n",
            "3             2  \n",
            "4             1  \n",
            "..          ...  \n",
            "882           1  \n",
            "883           1  \n",
            "884           4  \n",
            "885           1  \n",
            "886           1  \n",
            "\n",
            "[887 rows x 9 columns]\n"
          ]
        }
      ],
      "source": [
        "from sklearn.compose import ColumnTransformer\n",
        "from sklearn.pipeline import Pipeline\n",
        "from sklearn.impute import SimpleImputer\n",
        "from sklearn.preprocessing import OneHotEncoder, StandardScaler\n",
        "\n",
        "data = pd.read_csv('titanic.csv')\n",
        "data['FamilySize'] = data['Siblings/Spouses Aboard'] + data['Parents/Children Aboard'] + 1\n",
        "print(data)\n"
      ]
    }
  ],
  "metadata": {
    "colab": {
      "provenance": []
    },
    "kernelspec": {
      "display_name": "Python 3",
      "name": "python3"
    },
    "language_info": {
      "name": "python"
    }
  },
  "nbformat": 4,
  "nbformat_minor": 0
}